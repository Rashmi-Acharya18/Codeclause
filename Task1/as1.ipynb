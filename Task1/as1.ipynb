{
 "cells": [
  {
   "cell_type": "markdown",
   "id": "924bd1f0-db3b-4098-913c-0da296d51881",
   "metadata": {},
   "source": [
    "# ASSIGNMENT 1"
   ]
  },
  {
   "cell_type": "markdown",
   "id": "42093fae-22cf-444d-a796-09c6bf66755f",
   "metadata": {},
   "source": [
    "\n",
    "# show that list in python can store different elements and duplicate elements"
   ]
  },
  {
   "cell_type": "code",
   "execution_count": 1,
   "id": "4314e152-d498-4b90-b19f-de5a7e633616",
   "metadata": {},
   "outputs": [
    {
     "name": "stdout",
     "output_type": "stream",
     "text": [
      "Different elements list: [10, 1000000000, 2.5, 352.58684, 'c', 'Rashmi', 'HEY THERE']\n",
      "Duplicate elements in the list: [10, 10, 34, 74, 35, 2, 63, 34, 77, 85, 77, 88, 74]\n"
     ]
    }
   ],
   "source": [
    "lst=[10,1000000000,2.5,352.58684,'c',\"Rashmi\",\"HEY THERE\"]\n",
    "lst1=[10,10,34,74,35,2,63,34,77,85,77,88,74]\n",
    "print(\"Different elements list:\",lst)\n",
    "print(\"Duplicate elements in the list:\",lst1)"
   ]
  },
  {
   "cell_type": "markdown",
   "id": "b8a7628d-b16a-4ef4-95b1-df3b755627be",
   "metadata": {},
   "source": [
    "# CHECK IF AN ELEMENT EXISTS IN THE LIST"
   ]
  },
  {
   "cell_type": "code",
   "execution_count": 6,
   "id": "5e17a3dd-044a-43eb-a8ca-1724cea70218",
   "metadata": {},
   "outputs": [
    {
     "name": "stdin",
     "output_type": "stream",
     "text": [
      "Enter the number of items: 4\n",
      "Enter0th element: 32\n",
      "Enter1th element: 5\n",
      "Enter2th element: 2\n",
      "Enter3th element: 5\n"
     ]
    },
    {
     "name": "stdout",
     "output_type": "stream",
     "text": [
      "The list is: [32, 5, 2, 5]\n"
     ]
    },
    {
     "name": "stdin",
     "output_type": "stream",
     "text": [
      "Enter the item to be searched: 6\n"
     ]
    },
    {
     "name": "stdout",
     "output_type": "stream",
     "text": [
      "NOT FOUND\n"
     ]
    }
   ],
   "source": [
    "n=int(input(\"Enter the number of items:\"))\n",
    "lst=[]\n",
    "for i in range(n):\n",
    "    ele=int(input(\"Enter\"+str(i)+\"th element:\"))\n",
    "    lst.append(ele)\n",
    "print(\"The list is:\",lst)\n",
    "item=int(input(\"Enter the item to be searched:\"))\n",
    "if item in lst:\n",
    "    print(\"FOUND\")\n",
    "else:\n",
    "    print(\"NOT FOUND\")"
   ]
  },
  {
   "cell_type": "markdown",
   "id": "812abc9c-d643-4967-9fb3-521a0c43ee3c",
   "metadata": {},
   "source": [
    "# FIND THE LENGTH OF THE LIST"
   ]
  },
  {
   "cell_type": "code",
   "execution_count": 7,
   "id": "c268c5b8-2f56-4745-acb4-38394080fcc2",
   "metadata": {},
   "outputs": [
    {
     "name": "stdout",
     "output_type": "stream",
     "text": [
      "14\n"
     ]
    }
   ],
   "source": [
    "lst=[35,658,3,7,3,7,6,.37,8,3,747,8,85,4646]\n",
    "print(len(lst))"
   ]
  },
  {
   "cell_type": "markdown",
   "id": "2768a801-0f68-4c5d-bf2c-d252a3db631a",
   "metadata": {},
   "source": [
    "# CREATE A LIST WITH n**2 AS ITS ELEMENTS WHERE n ranges from 1 to 5"
   ]
  },
  {
   "cell_type": "code",
   "execution_count": 8,
   "id": "1775c7b1-d265-4931-aca2-3c427c7f1ef8",
   "metadata": {},
   "outputs": [
    {
     "name": "stdin",
     "output_type": "stream",
     "text": [
      "Enter the number of items: 5\n"
     ]
    },
    {
     "name": "stdout",
     "output_type": "stream",
     "text": [
      "[1, 4, 9, 16, 25]\n"
     ]
    }
   ],
   "source": [
    "n=int(input(\"Enter the number of items:\"))\n",
    "lst=[]\n",
    "for i in range(1,6):\n",
    "    lst.append(i**2)\n",
    "print(lst)"
   ]
  },
  {
   "cell_type": "markdown",
   "id": "a446b6fb-ea00-476a-b071-31034265fc11",
   "metadata": {},
   "source": [
    "# PRINT THE ELEMENTS IN REVERSE ORDER"
   ]
  },
  {
   "cell_type": "code",
   "execution_count": 9,
   "id": "ebd6c126-6d32-42f2-82ce-f4a48d65132a",
   "metadata": {},
   "outputs": [
    {
     "name": "stdin",
     "output_type": "stream",
     "text": [
      "Enter the number of elements: 5\n",
      "Enter 0th element: 35\n",
      "Enter 1th element: 6\n",
      "Enter 2th element: 3\n",
      "Enter 3th element: 6\n",
      "Enter 4th element: 2\n"
     ]
    },
    {
     "name": "stdout",
     "output_type": "stream",
     "text": [
      "The original list: [35, 6, 3, 6, 2]\n",
      "The reversed list= [2, 6, 3, 6, 35]\n"
     ]
    }
   ],
   "source": [
    "n=int(input(\"Enter the number of elements:\"))\n",
    "lst=[]\n",
    "for i in range(n):\n",
    "    ele=int(input(\"Enter \"+str(i)+\"th element:\"))\n",
    "    lst.append(ele)\n",
    "print(\"The original list:\",lst)\n",
    "rev_list = lst[::-1]\n",
    "print(\"The reversed list=\",rev_list)"
   ]
  },
  {
   "cell_type": "markdown",
   "id": "278e7f04-a3b0-4147-bc5a-e02cd35c5d28",
   "metadata": {},
   "source": [
    "# SORT THE ARRAY IN DESCENDING ORDER"
   ]
  },
  {
   "cell_type": "code",
   "execution_count": 11,
   "id": "242c4669-70f6-4ec3-83d0-6b0953206744",
   "metadata": {},
   "outputs": [
    {
     "name": "stdin",
     "output_type": "stream",
     "text": [
      "Enter the number of elements: 5\n",
      "Enter 0th element: 34\n",
      "Enter 1th element: 6\n",
      "Enter 2th element: 3\n",
      "Enter 3th element: 67\n",
      "Enter 4th element: 36\n"
     ]
    },
    {
     "name": "stdout",
     "output_type": "stream",
     "text": [
      "The orginal list= [35, 6, 3, 6, 2]\n",
      "Sorted Array= [67, 36, 34, 6, 3]\n"
     ]
    }
   ],
   "source": [
    "n=int(input(\"Enter the number of elements:\"))\n",
    "arr=[]\n",
    "for i in range(n):\n",
    "    ele=int(input(\"Enter \"+str(i)+\"th element:\"))\n",
    "    arr.append(ele)\n",
    "\n",
    "print(\"The orginal list=\",lst)\n",
    "arr.sort(reverse=True)\n",
    "print(\"Sorted Array=\",arr)"
   ]
  },
  {
   "cell_type": "markdown",
   "id": "10089aa9-24c6-4f06-8c15-f65fc11b4c44",
   "metadata": {},
   "source": [
    "# COMPARE THE LISTS USING set() and =="
   ]
  },
  {
   "cell_type": "code",
   "execution_count": 21,
   "id": "af6f634a-b25e-44cf-9d90-dbe5ed89aaf5",
   "metadata": {},
   "outputs": [
    {
     "name": "stdout",
     "output_type": "stream",
     "text": [
      "EQUAL\n"
     ]
    }
   ],
   "source": [
    "lst1=[1,2,3,4,5]\n",
    "lst2=[5,4,3,2,1,1,2,5]\n",
    "a=set(lst1)\n",
    "b=set(lst2)\n",
    "if a==b:\n",
    "    print(\"EQUAL\")\n",
    "else:\n",
    "    print(\"NOT EQUAL\")"
   ]
  },
  {
   "cell_type": "markdown",
   "id": "90b2d767-756b-44c8-bc29-dacc2754f878",
   "metadata": {},
   "source": [
    "#  COMPARE THE LISTS WITH sort() and =="
   ]
  },
  {
   "cell_type": "code",
   "execution_count": 26,
   "id": "6a1968cb-9e3d-4a9f-baf5-adea6c724dd4",
   "metadata": {},
   "outputs": [
    {
     "name": "stdout",
     "output_type": "stream",
     "text": [
      "NOT EQUAL\n"
     ]
    }
   ],
   "source": [
    "lst1=[1,2,3,4,5]\n",
    "lst2=[5,4,3,2,1,1,2,5]\n",
    "lst1.sort()\n",
    "lst2.sort()\n",
    "\n",
    "if lst1==lst2:\n",
    "    print(\"EQUAL\")\n",
    "else:\n",
    "    print(\"NOT EQUAL\")"
   ]
  },
  {
   "cell_type": "markdown",
   "id": "0ec074f5-3b37-49c3-8e61-ce32c6c7dab6",
   "metadata": {},
   "source": [
    "# REMOVING ELEMENTS FROM THE LIST"
   ]
  },
  {
   "cell_type": "code",
   "execution_count": 30,
   "id": "9963b8d2-161d-483c-b1e7-934ab0d84353",
   "metadata": {},
   "outputs": [
    {
     "name": "stdout",
     "output_type": "stream",
     "text": [
      "ORIGINAL LIST [3, 467, 6, 3, 3, 7, 25, 7, 1]\n",
      "After popping:\n",
      "[3, 467, 6, 3, 3, 7, 25, 7]\n",
      "After removing a specific element:\n",
      "[3, 6, 3, 3, 7, 25, 7]\n",
      "Clearing the entire list:\n",
      "[]\n"
     ]
    }
   ],
   "source": [
    "lst=[3,467,6,3,3,7,25,7,1]\n",
    "print(\"ORIGINAL LIST\",lst)\n",
    "lst.pop()\n",
    "print(\"After popping:\")\n",
    "print(lst)\n",
    "print(\"After removing a specific element:\")\n",
    "lst.remove(467)\n",
    "print(lst)\n",
    "print(\"Clearing the entire list:\")\n",
    "lst.clear()\n",
    "print(lst)"
   ]
  },
  {
   "cell_type": "markdown",
   "id": "ffb9a7d2-3943-4f11-adc8-560315fbbea3",
   "metadata": {},
   "source": [
    "# CONVERTING INTEGER ARRAY TO FLOATING POINT ARRAY"
   ]
  },
  {
   "cell_type": "code",
   "execution_count": 31,
   "id": "ffdb459c-d58d-40a8-b42e-a62fe7f35823",
   "metadata": {
    "scrolled": true
   },
   "outputs": [
    {
     "name": "stdout",
     "output_type": "stream",
     "text": [
      "Original integer list:\n",
      "[1, 2, 3, 4, 5]\n",
      "The corresponding floating point array is:\n",
      "[1. 2. 3. 4. 5.]\n"
     ]
    }
   ],
   "source": [
    "import numpy as np\n",
    "arr=[1,2,3,4,5]\n",
    "print(\"Original integer list:\")\n",
    "print(arr)\n",
    "int_to_float = np.asfarray(arr)\n",
    "print(\"The corresponding floating point array is:\")\n",
    "print(int_to_float)"
   ]
  },
  {
   "cell_type": "markdown",
   "id": "f500aff6-359d-4b2c-a29e-744b05ffd7a9",
   "metadata": {},
   "source": [
    "# CONVERTING LIST AND TUPLE TO ARRAY USING np.asfarray()"
   ]
  },
  {
   "cell_type": "code",
   "execution_count": 35,
   "id": "6a755182-5fc8-4f16-94ef-734c9a23f94f",
   "metadata": {},
   "outputs": [
    {
     "name": "stdout",
     "output_type": "stream",
     "text": [
      "LIST= [1, 2, 5.6, 7.8, 'rashmi', 4, 5, 6, 5, 4, 3, 2, 1]\n",
      "List converted to array:\n",
      "['1' '2' '5.6' '7.8' 'rashmi' '4' '5' '6' '5' '4' '3' '2' '1']\n",
      "Tuple = (1, 2, 3, 'rashmi', 10.0)\n",
      "Tuple converted to array:\n",
      "['1' '2' '3' 'rashmi' '10.0']\n"
     ]
    }
   ],
   "source": [
    "import numpy as np\n",
    "lst=[1,2,5.6,7.8,\"rashmi\",4,5,6,5,4,3,2,1]\n",
    "print(\"LIST=\",lst)\n",
    "lst_arr = np.asarray(lst)\n",
    "print(\"List converted to array:\")\n",
    "print(lst_arr)\n",
    "tple =(1,2,3,\"rashmi\",10.00)\n",
    "print(\"Tuple =\",tple)\n",
    "tple_arr = np.asarray(tple)\n",
    "print(\"Tuple converted to array:\")\n",
    "print(tple_arr)"
   ]
  },
  {
   "cell_type": "markdown",
   "id": "c90e3ffb-b8c9-4993-9f75-769b1b3335e6",
   "metadata": {},
   "source": [
    "# CONVERTING LIST AND TUPLE TO ARRAY USING np.array()"
   ]
  },
  {
   "cell_type": "code",
   "execution_count": 36,
   "id": "b9cee245-a3d7-4a80-abca-ad8c93bb4c53",
   "metadata": {},
   "outputs": [
    {
     "name": "stdout",
     "output_type": "stream",
     "text": [
      "LIST= [1, 2, 5.6, 7.8, 'rashmi', 4, 5, 6, 5, 4, 3, 2, 1]\n",
      "List converted to array:\n",
      "['1' '2' '5.6' '7.8' 'rashmi' '4' '5' '6' '5' '4' '3' '2' '1']\n",
      "Tuple = (1, 2, 3, 'rashmi', 10.0)\n",
      "Tuple converted to array:\n",
      "['1' '2' '3' 'rashmi' '10.0']\n"
     ]
    }
   ],
   "source": [
    "import numpy as np\n",
    "lst=[1,2,5.6,7.8,\"rashmi\",4,5,6,5,4,3,2,1]\n",
    "print(\"LIST=\",lst)\n",
    "lst_arr = np.array(lst)\n",
    "print(\"List converted to array:\")\n",
    "print(lst_arr)\n",
    "tple =(1,2,3,\"rashmi\",10.00)\n",
    "print(\"Tuple =\",tple)\n",
    "tple_arr = np.array(tple)\n",
    "print(\"Tuple converted to array:\")\n",
    "print(tple_arr)"
   ]
  },
  {
   "cell_type": "markdown",
   "id": "4eeac6ab-1aec-4433-83af-4403324dd2dd",
   "metadata": {},
   "source": []
  },
  {
   "cell_type": "code",
   "execution_count": 8,
   "id": "2b634133-f0a7-4217-90c7-7f1e9a947d7c",
   "metadata": {},
   "outputs": [
    {
     "name": "stdin",
     "output_type": "stream",
     "text": [
      "Enter the first number: 1\n",
      "Enter the second number: 2\n"
     ]
    },
    {
     "name": "stdout",
     "output_type": "stream",
     "text": [
      "Operation menu \n",
      " 1.Addition \n",
      " 2.Subraction \n",
      "3.Multiplication \n",
      " 4.Division \n",
      "\n"
     ]
    },
    {
     "name": "stdin",
     "output_type": "stream",
     "text": [
      "Enter your choice:(1,2,3 or 4): 4\n"
     ]
    },
    {
     "name": "stdout",
     "output_type": "stream",
     "text": [
      "Division of 1 and 2 are 0.5\n"
     ]
    }
   ],
   "source": []
  },
  {
   "cell_type": "markdown",
   "id": "eb1486c1-38cb-43d4-83c9-fa72280424e0",
   "metadata": {},
   "source": []
  },
  {
   "cell_type": "code",
   "execution_count": 9,
   "id": "ef541da9-7632-41d7-8d39-86c7f5392ac4",
   "metadata": {},
   "outputs": [
    {
     "name": "stdin",
     "output_type": "stream",
     "text": [
      "Enter number of elements in fst list: 5\n",
      "Enter number of elements in scnd list: 3\n"
     ]
    },
    {
     "name": "stdout",
     "output_type": "stream",
     "text": [
      "Enter elements into list 1:\n"
     ]
    },
    {
     "name": "stdin",
     "output_type": "stream",
     "text": [
      "Enter 0th element: 32\n",
      "Enter 1th element: 5\n",
      "Enter 2th element: 6\n",
      "Enter 3th element: 6\n",
      "Enter 4th element: 7\n"
     ]
    },
    {
     "name": "stdout",
     "output_type": "stream",
     "text": [
      "Enter elements into list 2:\n"
     ]
    },
    {
     "name": "stdin",
     "output_type": "stream",
     "text": [
      "Enter 0th element: 36\n",
      "Enter 1th element: 24\n",
      "Enter 2th element: 12\n"
     ]
    },
    {
     "name": "stdout",
     "output_type": "stream",
     "text": [
      "list 1 = [32, 5, 6, 6, 7]\n",
      "list 2 = [36, 24, 12]\n",
      "After merging:\n",
      "[32, 5, 6, 6, 7, 36, 24, 12]\n"
     ]
    }
   ],
   "source": []
  },
  {
   "cell_type": "code",
   "execution_count": 24,
   "id": "fd3c12a1-82d3-4997-825d-8ab9bda789f0",
   "metadata": {},
   "outputs": [
    {
     "name": "stdout",
     "output_type": "stream",
     "text": [
      "Enter elements into the list:\n"
     ]
    },
    {
     "name": "stdin",
     "output_type": "stream",
     "text": [
      " 5\n",
      " 3\n",
      " 5\n",
      " 2\n",
      " 5\n"
     ]
    },
    {
     "name": "stdout",
     "output_type": "stream",
     "text": [
      "List = [5, 3, 5, 2, 5]\n",
      "Tuple = (1, 2, 3, 4, 5)\n",
      "Updated list:\n",
      "[5, 3, 4, 2, 2]\n",
      "Updating tuple:\n"
     ]
    },
    {
     "ename": "TypeError",
     "evalue": "'type' object does not support item assignment",
     "output_type": "error",
     "traceback": [
      "\u001b[1;31m---------------------------------------------------------------------------\u001b[0m",
      "\u001b[1;31mTypeError\u001b[0m                                 Traceback (most recent call last)",
      "Cell \u001b[1;32mIn[24], line 20\u001b[0m\n\u001b[0;32m     17\u001b[0m \u001b[38;5;28mprint\u001b[39m(list1)\n\u001b[0;32m     19\u001b[0m \u001b[38;5;28mprint\u001b[39m(\u001b[38;5;124m\"\u001b[39m\u001b[38;5;124mUpdating tuple:\u001b[39m\u001b[38;5;124m\"\u001b[39m)\n\u001b[1;32m---> 20\u001b[0m \u001b[38;5;28;43mtuple\u001b[39;49m\u001b[43m[\u001b[49m\u001b[38;5;241;43m4\u001b[39;49m\u001b[43m]\u001b[49m\u001b[38;5;241m=\u001b[39m\u001b[38;5;241m3\u001b[39m\n",
      "\u001b[1;31mTypeError\u001b[0m: 'type' object does not support item assignment"
     ]
    }
   ],
   "source": []
  },
  {
   "cell_type": "markdown",
   "id": "5468bfba-7736-45f6-b672-3ba9f886a9ed",
   "metadata": {},
   "source": []
  },
  {
   "cell_type": "code",
   "execution_count": 25,
   "id": "088a29b2-2b1a-4038-a2b4-3dba27999961",
   "metadata": {},
   "outputs": [
    {
     "name": "stdout",
     "output_type": "stream",
     "text": [
      "Original tuple is: (1, 2, 3, 4, 5, 1)\n",
      "Number of elements: 6\n",
      "Largest element : 5\n",
      "Smallest Element: 1\n",
      "Sum of the elements in the tuple: 16\n",
      "Sorted tuple: [1, 1, 2, 3, 4, 5]\n"
     ]
    }
   ],
   "source": []
  },
  {
   "cell_type": "code",
   "execution_count": 28,
   "id": "a0283e87-82f5-4eab-9b63-67dd002bd610",
   "metadata": {},
   "outputs": [
    {
     "name": "stdout",
     "output_type": "stream",
     "text": [
      "List converted to string and tuple\n",
      "list= [1, 2, 3, 3.6, 635.56456, 'Rashmi']\n",
      "List converted to String: [1, 2, 3, 3.6, 635.56456, 'Rashmi']\n",
      "List converted to tuple: (1, 2, 3, 3.6, 635.56456, 'Rashmi')\n",
      "Tuple converted to string and list\n",
      "Tuple= (1, 2, 3, 'R', 'a', 's', 'h', 'm', 'i')\n",
      "Tuple converted to String: (1, 2, 3, 'R', 'a', 's', 'h', 'm', 'i')\n",
      "Tuple converted to list: [1, 2, 3, 'R', 'a', 's', 'h', 'm', 'i']\n",
      "String converted to list and tuple\n",
      "String= Hello World!\n",
      "string converted to list= ['H', 'e', 'l', 'l', 'o', ' ', 'W', 'o', 'r', 'l', 'd', '!']\n",
      "String converted to tuple= ('H', 'e', 'l', 'l', 'o', ' ', 'W', 'o', 'r', 'l', 'd', '!')\n"
     ]
    }
   ],
   "source": []
  },
  {
   "cell_type": "markdown",
   "id": "9a9c0064-4aa0-44e9-b5af-111b70aacc5e",
   "metadata": {},
   "source": []
  },
  {
   "cell_type": "code",
   "execution_count": 35,
   "id": "56d69566-0d98-49b7-b432-1a2426acf163",
   "metadata": {},
   "outputs": [
    {
     "name": "stdout",
     "output_type": "stream",
     "text": [
      "Dictionary: {'Name': 'Ram', 'Age': 20, 'height': 5.55, 'Weight': 60}\n",
      "Keys\n",
      "dict_keys(['Name', 'Age', 'height', 'Weight'])\n",
      "Values\n",
      "dict_values(['Ram', 20, 5.55, 60])\n",
      "keys+values\n",
      "dict_items([('Name', 'Ram'), ('Age', 20), ('height', 5.55), ('Weight', 60)])\n",
      "Making another copy\n",
      "Dict 1= {'Name': 'Ram', 'Age': 20, 'height': 5.55, 'Weight': 60}\n",
      "Popping an item\n",
      "{'Name': 'Ram', 'Age': 20, 'Weight': 60}\n",
      "popping the last item\n",
      "('Weight', 60)\n",
      "DICT= {'Name': 'Ram', 'Age': 20}\n",
      "Updated dictionary\n",
      "{'Name': 'Ram', 'Age': 20, 'height': 5.55, 'Weight': 60, 'school': 'lris', 'college': 'nmamit'}\n",
      "Setting default value\n",
      "{'Name': 'Ram', 'Age': 20, 'height': 5.55, 'Weight': 60, 'school': 'lris', 'college': 'nmamit', 'addr': None}\n",
      "Clearing the dictionary\n",
      "Dict= {}\n",
      "Dict1= {}\n",
      "Dict2= {}\n"
     ]
    }
   ],
   "source": []
  },
  {
   "cell_type": "code",
   "execution_count": 37,
   "id": "c934c295-5b33-47a7-9f65-3e37da0b052a",
   "metadata": {},
   "outputs": [
    {
     "name": "stdout",
     "output_type": "stream",
     "text": [
      "Original list= [1, 2, 3, 'rashmi', 67777.567]\n",
      "Positive indexing\n",
      "1\n",
      "67777.567\n",
      "Negative indexing\n",
      "rashmi\n",
      "2\n",
      "SLICING\n",
      "[1, 2, 3, 'rashmi', 67777.567]\n",
      "[1, 2, 3]\n",
      "[1, 2]\n",
      "['rashmi', 67777.567]\n"
     ]
    }
   ],
   "source": []
  },
  {
   "cell_type": "code",
   "execution_count": null,
   "id": "bfad9755-e6a6-486b-b9be-405b4c239a7d",
   "metadata": {},
   "outputs": [],
   "source": []
  }
 ],
 "metadata": {
  "kernelspec": {
   "display_name": "Python 3 (ipykernel)",
   "language": "python",
   "name": "python3"
  },
  "language_info": {
   "codemirror_mode": {
    "name": "ipython",
    "version": 3
   },
   "file_extension": ".py",
   "mimetype": "text/x-python",
   "name": "python",
   "nbconvert_exporter": "python",
   "pygments_lexer": "ipython3",
   "version": "3.11.5"
  }
 },
 "nbformat": 4,
 "nbformat_minor": 5
}
