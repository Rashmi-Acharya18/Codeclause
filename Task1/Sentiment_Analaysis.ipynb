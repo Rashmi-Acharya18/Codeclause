{
 "cells": [
  {
   "cell_type": "code",
   "execution_count": 4,
   "id": "7f71d310-4597-4366-90bb-27e883d97cbd",
   "metadata": {},
   "outputs": [
    {
     "name": "stdout",
     "output_type": "stream",
     "text": [
      "Defaulting to user installation because normal site-packages is not writeable\n",
      "Collecting textblob\n",
      "  Obtaining dependency information for textblob from https://files.pythonhosted.org/packages/02/07/5fd2945356dd839974d3a25de8a142dc37293c21315729a41e775b5f3569/textblob-0.18.0.post0-py3-none-any.whl.metadata\n",
      "  Downloading textblob-0.18.0.post0-py3-none-any.whl.metadata (4.5 kB)\n",
      "Collecting nltk>=3.8 (from textblob)\n",
      "  Downloading nltk-3.8.1-py3-none-any.whl (1.5 MB)\n",
      "     ---------------------------------------- 0.0/1.5 MB ? eta -:--:--\n",
      "      --------------------------------------- 0.0/1.5 MB ? eta -:--:--\n",
      "      --------------------------------------- 0.0/1.5 MB ? eta -:--:--\n",
      "      --------------------------------------- 0.0/1.5 MB ? eta -:--:--\n",
      "      --------------------------------------- 0.0/1.5 MB ? eta -:--:--\n",
      "     -- ------------------------------------- 0.1/1.5 MB 504.4 kB/s eta 0:00:03\n",
      "     --- ------------------------------------ 0.1/1.5 MB 437.3 kB/s eta 0:00:04\n",
      "     ---- ----------------------------------- 0.2/1.5 MB 546.6 kB/s eta 0:00:03\n",
      "     ----- ---------------------------------- 0.2/1.5 MB 573.4 kB/s eta 0:00:03\n",
      "     -------- ------------------------------- 0.3/1.5 MB 781.9 kB/s eta 0:00:02\n",
      "     ---------- ----------------------------- 0.4/1.5 MB 881.6 kB/s eta 0:00:02\n",
      "     ------------- -------------------------- 0.5/1.5 MB 1.0 MB/s eta 0:00:01\n",
      "     --------------- ------------------------ 0.6/1.5 MB 1.0 MB/s eta 0:00:01\n",
      "     ------------------ --------------------- 0.7/1.5 MB 1.1 MB/s eta 0:00:01\n",
      "     -------------------- ------------------- 0.8/1.5 MB 1.2 MB/s eta 0:00:01\n",
      "     --------------------- ------------------ 0.8/1.5 MB 1.2 MB/s eta 0:00:01\n",
      "     --------------------- ------------------ 0.8/1.5 MB 1.2 MB/s eta 0:00:01\n",
      "     --------------------- ------------------ 0.8/1.5 MB 1.2 MB/s eta 0:00:01\n",
      "     ------------------------- -------------- 1.0/1.5 MB 1.2 MB/s eta 0:00:01\n",
      "     ------------------------- -------------- 1.0/1.5 MB 1.2 MB/s eta 0:00:01\n",
      "     --------------------------- ------------ 1.1/1.5 MB 1.1 MB/s eta 0:00:01\n",
      "     --------------------------- ------------ 1.1/1.5 MB 1.1 MB/s eta 0:00:01\n",
      "     --------------------------- ------------ 1.1/1.5 MB 1.1 MB/s eta 0:00:01\n",
      "     --------------------------- ------------ 1.1/1.5 MB 1.1 MB/s eta 0:00:01\n",
      "     ------------------------------ --------- 1.2/1.5 MB 1.0 MB/s eta 0:00:01\n",
      "     -------------------------------- ------- 1.2/1.5 MB 1.1 MB/s eta 0:00:01\n",
      "     -------------------------------- ------- 1.2/1.5 MB 1.1 MB/s eta 0:00:01\n",
      "     -------------------------------- ------- 1.2/1.5 MB 1.1 MB/s eta 0:00:01\n",
      "     -------------------------------- ------- 1.2/1.5 MB 1.1 MB/s eta 0:00:01\n",
      "     ------------------------------------- -- 1.4/1.5 MB 1.0 MB/s eta 0:00:01\n",
      "     ------------------------------------- -- 1.4/1.5 MB 1.0 MB/s eta 0:00:01\n",
      "     ------------------------------------- -- 1.4/1.5 MB 1.0 MB/s eta 0:00:01\n",
      "     ------------------------------------- -- 1.4/1.5 MB 1.0 MB/s eta 0:00:01\n",
      "     ---------------------------------------- 1.5/1.5 MB 980.0 kB/s eta 0:00:00\n",
      "Collecting click (from nltk>=3.8->textblob)\n",
      "  Obtaining dependency information for click from https://files.pythonhosted.org/packages/00/2e/d53fa4befbf2cfa713304affc7ca780ce4fc1fd8710527771b58311a3229/click-8.1.7-py3-none-any.whl.metadata\n",
      "  Downloading click-8.1.7-py3-none-any.whl.metadata (3.0 kB)\n",
      "Collecting joblib (from nltk>=3.8->textblob)\n",
      "  Obtaining dependency information for joblib from https://files.pythonhosted.org/packages/10/40/d551139c85db202f1f384ba8bcf96aca2f329440a844f924c8a0040b6d02/joblib-1.3.2-py3-none-any.whl.metadata\n",
      "  Downloading joblib-1.3.2-py3-none-any.whl.metadata (5.4 kB)\n",
      "Collecting regex>=2021.8.3 (from nltk>=3.8->textblob)\n",
      "  Obtaining dependency information for regex>=2021.8.3 from https://files.pythonhosted.org/packages/a8/01/18232f93672c1d530834e2e0568a80eaab1df12d67ae499b1762ab462b5c/regex-2023.12.25-cp311-cp311-win_amd64.whl.metadata\n",
      "  Downloading regex-2023.12.25-cp311-cp311-win_amd64.whl.metadata (41 kB)\n",
      "     ---------------------------------------- 0.0/42.0 kB ? eta -:--:--\n",
      "     ---------------------------------------- 42.0/42.0 kB 2.1 MB/s eta 0:00:00\n",
      "Collecting tqdm (from nltk>=3.8->textblob)\n",
      "  Obtaining dependency information for tqdm from https://files.pythonhosted.org/packages/2a/14/e75e52d521442e2fcc9f1df3c5e456aead034203d4797867980de558ab34/tqdm-4.66.2-py3-none-any.whl.metadata\n",
      "  Downloading tqdm-4.66.2-py3-none-any.whl.metadata (57 kB)\n",
      "     ---------------------------------------- 0.0/57.6 kB ? eta -:--:--\n",
      "     ---------------------------------------- 57.6/57.6 kB 1.5 MB/s eta 0:00:00\n",
      "Requirement already satisfied: colorama in c:\\users\\rashm\\appdata\\roaming\\python\\python311\\site-packages (from click->nltk>=3.8->textblob) (0.4.6)\n",
      "Downloading textblob-0.18.0.post0-py3-none-any.whl (626 kB)\n",
      "   ---------------------------------------- 0.0/626.3 kB ? eta -:--:--\n",
      "   ---- ----------------------------------- 71.7/626.3 kB 2.0 MB/s eta 0:00:01\n",
      "   ------------- -------------------------- 204.8/626.3 kB 2.5 MB/s eta 0:00:01\n",
      "   ----------------- ---------------------- 276.5/626.3 kB 2.1 MB/s eta 0:00:01\n",
      "   ----------------------- ---------------- 368.6/626.3 kB 2.1 MB/s eta 0:00:01\n",
      "   ------------------------------ --------- 481.3/626.3 kB 2.2 MB/s eta 0:00:01\n",
      "   ------------------------------------- -- 593.9/626.3 kB 2.2 MB/s eta 0:00:01\n",
      "   ---------------------------------------- 626.3/626.3 kB 2.1 MB/s eta 0:00:00\n",
      "Downloading regex-2023.12.25-cp311-cp311-win_amd64.whl (269 kB)\n",
      "   ---------------------------------------- 0.0/269.5 kB ? eta -:--:--\n",
      "   --------- ------------------------------ 61.4/269.5 kB ? eta -:--:--\n",
      "   ------------------------ --------------- 163.8/269.5 kB 3.3 MB/s eta 0:00:01\n",
      "   ---------------------------------- ----- 235.5/269.5 kB 1.8 MB/s eta 0:00:01\n",
      "   ---------------------------------------- 269.5/269.5 kB 1.9 MB/s eta 0:00:00\n",
      "Downloading click-8.1.7-py3-none-any.whl (97 kB)\n",
      "   ---------------------------------------- 0.0/97.9 kB ? eta -:--:--\n",
      "   ------------------------------------- -- 92.2/97.9 kB 2.6 MB/s eta 0:00:01\n",
      "   ---------------------------------------- 97.9/97.9 kB 1.9 MB/s eta 0:00:00\n",
      "Downloading joblib-1.3.2-py3-none-any.whl (302 kB)\n",
      "   ---------------------------------------- 0.0/302.2 kB ? eta -:--:--\n",
      "   ------------ --------------------------- 92.2/302.2 kB 2.6 MB/s eta 0:00:01\n",
      "   --------------------------- ------------ 204.8/302.2 kB 2.5 MB/s eta 0:00:01\n",
      "   ---------------------------------------- 302.2/302.2 kB 2.1 MB/s eta 0:00:00\n",
      "Downloading tqdm-4.66.2-py3-none-any.whl (78 kB)\n",
      "   ---------------------------------------- 0.0/78.3 kB ? eta -:--:--\n",
      "   ------------------------------------ --- 71.7/78.3 kB 1.3 MB/s eta 0:00:01\n",
      "   ---------------------------------------- 78.3/78.3 kB 1.4 MB/s eta 0:00:00\n",
      "Installing collected packages: tqdm, regex, joblib, click, nltk, textblob\n",
      "Successfully installed click-8.1.7 joblib-1.3.2 nltk-3.8.1 regex-2023.12.25 textblob-0.18.0.post0 tqdm-4.66.2\n",
      "Note: you may need to restart the kernel to use updated packages.\n"
     ]
    },
    {
     "name": "stderr",
     "output_type": "stream",
     "text": [
      "\n",
      "[notice] A new release of pip is available: 23.2.1 -> 24.0\n",
      "[notice] To update, run: python.exe -m pip install --upgrade pip\n"
     ]
    }
   ],
   "source": [
    "pip install textblob"
   ]
  },
  {
   "cell_type": "code",
   "execution_count": 6,
   "id": "0ed9a8fa-c738-4774-bc26-d6ee60d306d4",
   "metadata": {},
   "outputs": [],
   "source": [
    "from textblob import TextBlob"
   ]
  },
  {
   "cell_type": "code",
   "execution_count": 15,
   "id": "e35ae5b4-8c38-46c8-aeea-53dcf3f237a4",
   "metadata": {},
   "outputs": [
    {
     "name": "stdin",
     "output_type": "stream",
     "text": [
      "Enter a sentence: i did not like the movie. it was very harshly represented against women and how they will be treated after marriage by their husbands.\n"
     ]
    },
    {
     "name": "stdout",
     "output_type": "stream",
     "text": [
      "The sentiment of the input is : negative\n"
     ]
    }
   ],
   "source": [
    "def analyze_sentiment(text):\n",
    "    blob = TextBlob(text)\n",
    "    text_polarity =blob.sentiment.polarity\n",
    "\n",
    "    if text_polarity > 0:\n",
    "        return \"positive\"\n",
    "    elif text_polarity < 0:\n",
    "        return \"negative\"\n",
    "    else:\n",
    "        return \"neutral\"\n",
    "\n",
    "user_input = input(\"Enter a sentence:\")\n",
    "sentiment = analyze_sentiment(user_input)\n",
    "print(f\"The sentiment of the input is : {sentiment}\")"
   ]
  },
  {
   "cell_type": "code",
   "execution_count": null,
   "id": "3914678f-46ae-439f-a7be-caec4cd336d0",
   "metadata": {},
   "outputs": [],
   "source": []
  },
  {
   "cell_type": "code",
   "execution_count": null,
   "id": "8f05c5e8-f4d0-4420-adfe-0e9cdc6129e3",
   "metadata": {},
   "outputs": [],
   "source": []
  }
 ],
 "metadata": {
  "kernelspec": {
   "display_name": "Python 3 (ipykernel)",
   "language": "python",
   "name": "python3"
  },
  "language_info": {
   "codemirror_mode": {
    "name": "ipython",
    "version": 3
   },
   "file_extension": ".py",
   "mimetype": "text/x-python",
   "name": "python",
   "nbconvert_exporter": "python",
   "pygments_lexer": "ipython3",
   "version": "3.11.5"
  }
 },
 "nbformat": 4,
 "nbformat_minor": 5
}
